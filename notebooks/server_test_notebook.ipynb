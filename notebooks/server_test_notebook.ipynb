{
  "cells": [
    {
      "cell_type": "code",
      "execution_count": null,
      "metadata": {
        "id": "9KGgZdNCfG4y"
      },
      "outputs": [],
      "source": [
        "!pip install json\n",
        "!pip install numpy\n",
        "!pip install openai\n",
        "!pip install pandas\n",
        "!pip install tenacity\n",
        "!pip install flask-ngrok\n",
        "!pip install scikit-learn"
      ]
    },
    {
      "cell_type": "code",
      "execution_count": 29,
      "metadata": {
        "id": "xJibDCNFd7q0"
      },
      "outputs": [],
      "source": [
        "import os\n",
        "import json\n",
        "import openai\n",
        "import numpy as np\n",
        "import pandas as p\n",
        "from flask import Flask, request\n",
        "from flask_ngrok import run_with_ngrok\n",
        "from tenacity import retry, wait_random_exponential, stop_after_attempt"
      ]
    },
    {
      "cell_type": "code",
      "execution_count": 5,
      "metadata": {
        "id": "vGoORoo7dvRv"
      },
      "outputs": [],
      "source": [
        "openai.api_key = \"sk-\""
      ]
    },
    {
      "cell_type": "markdown",
      "metadata": {
        "id": "HeUwY193dSMt"
      },
      "source": [
        "## GPT Models"
      ]
    },
    {
      "cell_type": "code",
      "execution_count": 6,
      "metadata": {
        "id": "gYygQwb9dOHA"
      },
      "outputs": [],
      "source": [
        "@retry(wait=wait_random_exponential(min=1, max=20), stop=stop_after_attempt(3))\n",
        "def get_embedding(text: str, model=\"text-embedding-ada-002\") -> list[float]:\n",
        "    response = openai.Embedding.create(\n",
        "        input=text,\n",
        "        model=model,\n",
        "    )\n",
        "    return response['data'][0][\"embedding\"]"
      ]
    },
    {
      "cell_type": "code",
      "execution_count": 7,
      "metadata": {
        "id": "KxRCpaYydppc"
      },
      "outputs": [],
      "source": [
        "@retry(wait=wait_random_exponential(min=1, max=20), stop=stop_after_attempt(3))\n",
        "def get_completion(message, model=\"text-davinci-003\", max_tokens=257) -> str:\n",
        "    response = openai.Completion.create(\n",
        "        model=model,\n",
        "        prompt=message,\n",
        "        temperature=0.7,\n",
        "        max_tokens=max_tokens,\n",
        "        top_p=1,\n",
        "        frequency_penalty=0,\n",
        "        presence_penalty=0,\n",
        "        stop=[\"\\n\\n\"]\n",
        "    )\n",
        "    return response[\"choices\"][0][\"text\"]"
      ]
    },
    {
      "cell_type": "code",
      "execution_count": 18,
      "metadata": {
        "id": "T8w93FtSzEQv"
      },
      "outputs": [],
      "source": [
        "def cosine_similarity(a, b):\n",
        "    return np.dot(a, b) / (np.linalg.norm(a) * np.linalg.norm(b))"
      ]
    },
    {
      "cell_type": "code",
      "execution_count": 19,
      "metadata": {
        "id": "LcFcq3A-zGB4"
      },
      "outputs": [],
      "source": [
        "def get_similarity(embedding_1: list[float], embedding_2: list[float]) -> float:\n",
        "    return cosine_similarity(embedding_1, embedding_2)"
      ]
    },
    {
      "cell_type": "markdown",
      "metadata": {
        "id": "HPtwehmue0kl"
      },
      "source": [
        "## Semantic Search"
      ]
    },
    {
      "cell_type": "code",
      "execution_count": 8,
      "metadata": {
        "id": "_zAH-8Mce-XO"
      },
      "outputs": [],
      "source": [
        "def merge_dataframes(df1, df2):\n",
        "    df1['embedding'] = df1['embedding'].apply(tuple)\n",
        "    df2['embedding'] = df2['embedding'].apply(tuple)\n",
        "    merged_df = pd.merge(df1, df2, on=['source', 'takeaway', 'status', 'embedding'], how='outer')\n",
        "    merged_df['embedding'] = merged_df['embedding'].apply(list)\n",
        "    return merged_df"
      ]
    },
    {
      "cell_type": "code",
      "execution_count": 9,
      "metadata": {
        "id": "pNN0tby7fKY5"
      },
      "outputs": [],
      "source": [
        "def search_takeaways(prompt, df, n=3):\n",
        "    prompt_embedding = get_embedding(prompt)\n",
        "    similarities = [get_similarity(prompt_embedding, row['embedding']) for index, row in df.iterrows()]\n",
        "    df['similarity'] = similarities\n",
        "    top_n_df = df.nlargest(n, 'similarity')\n",
        "    top_n_takeaways = top_n_df['takeaway'].tolist()\n",
        "    return top_n_takeaways"
      ]
    },
    {
      "cell_type": "markdown",
      "metadata": {
        "id": "cDpQL_fZfPUN"
      },
      "source": [
        "# UNICorn 🦄 ChatBot"
      ]
    },
    {
      "cell_type": "code",
      "execution_count": 10,
      "metadata": {
        "id": "RcosL6FQfWL7"
      },
      "outputs": [],
      "source": [
        "def get_answer(message, df):\n",
        "    top_3_takeaways = search_takeaways(message, df)\n",
        "    message = f'Using the data answer the following questions:\\n\\nQuestion:{message}\\n\\nData:{\"\".join(top_3_takeaways)}\\n\\nAnswer:'\n",
        "    answer = get_completion(message)\n",
        "    return answer"
      ]
    },
    {
      "cell_type": "markdown",
      "metadata": {
        "id": "Vk0y4xMCfdzW"
      },
      "source": [
        "> Test chatbot"
      ]
    },
    {
      "cell_type": "code",
      "execution_count": 21,
      "metadata": {
        "id": "hxPSDOosfiBR"
      },
      "outputs": [],
      "source": [
        "def chatbot():\n",
        "    df = pd.read_json('nameless_embedding2.jsonl', lines=True)\n",
        "    df2 = pd.read_json('website_embedding.jsonl', lines=True)\n",
        "    df = merge_dataframes(df, df2)\n",
        "    while True:\n",
        "        message = input('User input: ')\n",
        "        if message == 'exit':\n",
        "            break\n",
        "        print('UNICorn: ', end='')\n",
        "        answer = get_answer(message, df)\n",
        "        print(answer, end='\\n\\n')"
      ]
    },
    {
      "cell_type": "code",
      "execution_count": null,
      "metadata": {
        "id": "Ks6aZBAXx2g7"
      },
      "outputs": [],
      "source": [
        "chatbot()"
      ]
    },
    {
      "cell_type": "markdown",
      "metadata": {
        "id": "JoxEqH_YfkZM"
      },
      "source": [
        "## Server Experiment"
      ]
    },
    {
      "cell_type": "code",
      "execution_count": null,
      "metadata": {
        "id": "0vj90ObZftao"
      },
      "outputs": [],
      "source": [
        "app = Flask(__name__)\n",
        "run_with_ngrok(app)\n",
        "\n",
        "@app.route('/', methods=['POST'])\n",
        "def receive_message():\n",
        "  message = request.json['message']\n",
        "  print(message)\n",
        "  response = {\"message\": \"Hi, How can I help you\", \"role\": \"bot\"}\n",
        "\n",
        "  # Return response as JSON\n",
        "  return json.dumps(response)\n",
        "\n",
        "# Start Flask app\n",
        "if __name__ == '__main__':\n",
        "  app.run()"
      ]
    }
  ],
  "metadata": {
    "colab": {
      "provenance": []
    },
    "kernelspec": {
      "display_name": "Python 3",
      "name": "python3"
    },
    "language_info": {
      "name": "python"
    }
  },
  "nbformat": 4,
  "nbformat_minor": 0
}
